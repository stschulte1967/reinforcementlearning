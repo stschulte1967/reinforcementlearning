{
 "cells": [
  {
   "cell_type": "code",
   "execution_count": 1,
   "metadata": {},
   "outputs": [],
   "source": [
    "import numpy as np\n",
    "import matplotlib.pyplot as plt\n",
    "import gym"
   ]
  },
  {
   "cell_type": "code",
   "execution_count": 2,
   "metadata": {},
   "outputs": [],
   "source": [
    "def max_action(q, state):\n",
    "    values = np.array([q[state, a]for a in range(2)])\n",
    "    action = np.argmax(values)\n",
    "    return action"
   ]
  },
  {
   "cell_type": "code",
   "execution_count": 3,
   "metadata": {},
   "outputs": [],
   "source": [
    "pole_theta_space = np.linspace(-0.20943951, 0.20943951, 10)\n",
    "pole_theta_vel_space = np.linspace(-4, 4, 10)\n",
    "cart_pos_space = np.linspace(-2.5, 2.4, 10)\n",
    "cart_vel_space = np.linspace(-4, 4, 10)"
   ]
  },
  {
   "cell_type": "code",
   "execution_count": 4,
   "metadata": {},
   "outputs": [],
   "source": [
    "def get_state(observation):\n",
    "    cart_x, cart_x_dot, cart_theta, cart_theta_dot = observation\n",
    "    cart_x = int(np.digitize(cart_x, cart_pos_space))\n",
    "    cart_x_dot = int(np.digitize(cart_x_dot, cart_vel_space))\n",
    "    cart_theta = int(np.digitize(cart_theta, pole_theta_space))\n",
    "    cart_theta_dot = int(np.digitize(cart_theta_dot, pole_theta_vel_space))\n",
    "    return (cart_x, cart_x_dot, cart_theta, cart_theta_dot)"
   ]
  },
  {
   "cell_type": "code",
   "execution_count": 5,
   "metadata": {},
   "outputs": [],
   "source": [
    "def plot_running_average(totalrewards):\n",
    "    N = len(totalrewards)\n",
    "    running_avg = np.empty(N)\n",
    "    for t in range(N):\n",
    "       running_avg[t] = np.mean(totalrewards[max(0, t-100):(t+1)])\n",
    "    plt.plot(running_avg)\n",
    "    plt.title(\"Running Average\")\n",
    "    plt.show()"
   ]
  },
  {
   "cell_type": "code",
   "execution_count": 6,
   "metadata": {},
   "outputs": [
    {
     "name": "stderr",
     "output_type": "stream",
     "text": [
      "D:\\apps\\Anaconda3\\envs\\OpenAiGym\\lib\\site-packages\\gym\\logger.py:30: UserWarning: \u001b[33mWARN: Box bound precision lowered by casting to float32\u001b[0m\n",
      "  warnings.warn(colorize('%s: %s'%('WARN', msg % args), 'yellow'))\n"
     ]
    },
    {
     "name": "stdout",
     "output_type": "stream",
     "text": [
      "starting game  0\n",
      "starting game  5000\n",
      "starting game  10000\n",
      "starting game  15000\n",
      "starting game  20000\n",
      "starting game  25000\n",
      "starting game  30000\n",
      "starting game  35000\n",
      "starting game  40000\n",
      "starting game  45000\n"
     ]
    },
    {
     "data": {
      "image/png": "[encoded data removed]",
      "text/plain": [
       "<Figure size 432x288 with 1 Axes>"
      ]
     },
     "metadata": {
      "needs_background": "light"
     },
     "output_type": "display_data"
    }
   ],
   "source": [
    "env = gym.make('CartPole-v0')\n",
    "alpha = 0.1\n",
    "gamma = 0.9\n",
    "eps = 1.0\n",
    "\n",
    "states = []\n",
    "for i in range(len(cart_pos_space) + 1):\n",
    "    for j in range(len(cart_vel_space) + 1):\n",
    "        for k in range(len(pole_theta_space) + 1):\n",
    "            for l in range(len(pole_theta_vel_space) + 1):\n",
    "                states.append((i,j,k,l))\n",
    "                \n",
    "q = {}\n",
    "for s in states:\n",
    "    for a in range(2):\n",
    "        q[s, a] = 0\n",
    "        \n",
    "num_games = 50000\n",
    "total_rewards = np.zeros(num_games)\n",
    "\n",
    "for i in range(num_games):\n",
    "    if i % 5000 == 0:\n",
    "        print('starting game ', i)\n",
    "    observation = env.reset()\n",
    "    s = get_state(observation)\n",
    "    rand = np.random.random()\n",
    "    a = max_action(q, s) if rand < (1-eps) else env.action_space.sample()\n",
    "    done = False\n",
    "    ep_rewards = 0\n",
    "    while not done:\n",
    "        observation_, reward, done, info = env.step(a)\n",
    "        s_ = get_state(observation_)\n",
    "        rand = np.random.random()\n",
    "        a_ = max_action(q, s_) if rand < (1-eps) else env.action_space.sample()\n",
    "        ep_rewards += reward\n",
    "        q[s, a] += alpha * (reward + gamma*q[s_, a_] - q[s,a])\n",
    "        s, a = s_, a_\n",
    "    eps -= 2/num_games if eps > 0 else 0\n",
    "    total_rewards[i] = ep_rewards\n",
    " \n",
    "plot_running_average(total_rewards)\n",
    "    \n",
    "\n",
    "\n",
    "    "
   ]
  },
  {
   "cell_type": "code",
   "execution_count": null,
   "metadata": {},
   "outputs": [],
   "source": []
  }
 ],
 "metadata": {
  "kernelspec": {
   "display_name": "Python 3",
   "language": "python",
   "name": "python3"
  },
  "language_info": {
   "codemirror_mode": {
    "name": "ipython",
    "version": 3
   },
   "file_extension": ".py",
   "mimetype": "text/x-python",
   "name": "python",
   "nbconvert_exporter": "python",
   "pygments_lexer": "ipython3",
   "version": "3.7.6"
  }
 },
 "nbformat": 4,
 "nbformat_minor": 4
}
