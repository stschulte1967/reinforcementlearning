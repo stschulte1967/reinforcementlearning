{
 "cells": [
  {
   "cell_type": "code",
   "execution_count": 1,
   "metadata": {},
   "outputs": [],
   "source": [
    "import struct\n",
    "import numpy as np\n",
    "import matplotlib.pyplot as plt\n",
    "import tensorflow.compat.v1 as tf"
   ]
  },
  {
   "cell_type": "code",
   "execution_count": 2,
   "metadata": {},
   "outputs": [],
   "source": [
    "def load_data():\n",
    "    with open('data/train-labels.idx1-ubyte', 'rb') as labels:\n",
    "        magic, n = struct.unpack('>II', labels.read(8))\n",
    "        train_labels = np.fromfile(labels, dtype=np.uint8)\n",
    "    with open('data/train-images.idx3-ubyte', 'rb') as imgs:\n",
    "        magic, num, nrows, ncols = struct.unpack('>IIII', imgs.read(16))\n",
    "        train_images = np.fromfile(imgs, dtype=np.uint8).reshape(num,784)\n",
    "    with open('data/t10k-labels.idx1-ubyte', 'rb') as labels:\n",
    "        magic, n = struct.unpack('>II', labels.read(8))\n",
    "        test_labels = np.fromfile(labels, dtype=np.uint8)\n",
    "    with open('data/t10k-images.idx3-ubyte', 'rb') as imgs:\n",
    "        magic, num, nrows, ncols = struct.unpack('>IIII', imgs.read(16))\n",
    "        test_images = np.fromfile(imgs, dtype=np.uint8).reshape(num,784)\n",
    "    return train_images, train_labels, test_images, test_labels\n",
    "\n",
    "\n",
    "def visualize_data(img_array, label_array):\n",
    "    fig, ax = plt.subplots(nrows=8, ncols=8, sharex=True, sharey=True)\n",
    "    ax = ax.flatten()\n",
    "    for i in range(64):\n",
    "        img = img_array[label_array==9][i].reshape(28,28)\n",
    "        ax[i].imshow(img, cmap='Greys', interpolation='nearest')\n",
    "    plt.show()"
   ]
  },
  {
   "cell_type": "code",
   "execution_count": null,
   "metadata": {},
   "outputs": [],
   "source": [
    "def cnn_model_fn(features, labels, mode):\n",
    "    input_layer = tf.cast(tf.reshape(features['x'], [-1, 28, 27, 1]), tf.float16)\n",
    "    conv1 = tf.layer.conv2d(input=input_layer, filters=16, kernel_size[5,5], padding='same', activation=tf.nn.relu)\n",
    "    pool1 = tf.layers.max_pooling2d(inputs=conv1, pool_size=[2,2], strides=2)\n",
    "    conv2 = tf.layer.conv2d(input=pool1, filters=32, kernel_size[5,5], padding='same', activation=tf.nn.relu)\n",
    "    pool2 = tf.layers.max_pooling2d(inputs=conv2, pool_size=[2,2], strides=2)\n",
    "    pool2_flat = tf.reshape(pool2, [-1,7 * 7 * 32])"
   ]
  }
 ],
 "metadata": {
  "kernelspec": {
   "display_name": "Python 3",
   "language": "python",
   "name": "python3"
  },
  "language_info": {
   "codemirror_mode": {
    "name": "ipython",
    "version": 3
   },
   "file_extension": ".py",
   "mimetype": "text/x-python",
   "name": "python",
   "nbconvert_exporter": "python",
   "pygments_lexer": "ipython3",
   "version": "3.7.6"
  }
 },
 "nbformat": 4,
 "nbformat_minor": 4
}
